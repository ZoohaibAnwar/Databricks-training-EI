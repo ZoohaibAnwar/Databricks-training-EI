{
 "cells": [
  {
   "cell_type": "markdown",
   "metadata": {
    "application/vnd.databricks.v1+cell": {
     "cellMetadata": {},
     "inputWidgets": {},
     "nuid": "fe456649-715b-415f-b522-3cdb01a494e3",
     "showTitle": false,
     "tableResultSettingsMap": {},
     "title": ""
    },
    "id": "BCoXzOH5CnM1"
   },
   "source": [
    "## Getting started with Python"
   ]
  },
  {
   "cell_type": "markdown",
   "metadata": {
    "application/vnd.databricks.v1+cell": {
     "cellMetadata": {},
     "inputWidgets": {},
     "nuid": "3ca237f2-9192-4949-a9ed-c7f2e47bc307",
     "showTitle": false,
     "tableResultSettingsMap": {},
     "title": ""
    },
    "id": "DVIkyZoNCumk"
   },
   "source": [
    "Fundamental Data Types : Immutable(can not change)\n",
    "1.   Int\n",
    "2.   Float\n",
    "3. String\n",
    "4. Bool\n",
    "5. Complex\n",
    "\n"
   ]
  },
  {
   "cell_type": "code",
   "execution_count": 0,
   "metadata": {
    "application/vnd.databricks.v1+cell": {
     "cellMetadata": {},
     "inputWidgets": {},
     "nuid": "a9906a06-56e1-4f6b-b43c-16cef6891644",
     "showTitle": false,
     "tableResultSettingsMap": {},
     "title": ""
    },
    "colab": {
     "base_uri": "https://localhost:8080/"
    },
    "id": "YERXP24UB5h1",
    "outputId": "af9c45b0-518e-4ad9-97f6-f4683bc44aa3"
   },
   "outputs": [],
   "source": [
    "a=10\n",
    "print(a)\n",
    "print(type(a))"
   ]
  },
  {
   "cell_type": "code",
   "execution_count": 0,
   "metadata": {
    "application/vnd.databricks.v1+cell": {
     "cellMetadata": {},
     "inputWidgets": {},
     "nuid": "829c80a6-b404-4dd3-9d06-a69b9871f71e",
     "showTitle": false,
     "tableResultSettingsMap": {},
     "title": ""
    },
    "colab": {
     "base_uri": "https://localhost:8080/"
    },
    "id": "1S5D_6q7CmUs",
    "outputId": "884c6a00-c1bf-461e-dd66-2a84c3af2947"
   },
   "outputs": [],
   "source": [
    "b=20.1\n",
    "print(b)\n",
    "print(type(b))"
   ]
  },
  {
   "cell_type": "code",
   "execution_count": 0,
   "metadata": {
    "application/vnd.databricks.v1+cell": {
     "cellMetadata": {},
     "inputWidgets": {},
     "nuid": "a2421575-5910-48f4-ad87-8794577496ec",
     "showTitle": false,
     "tableResultSettingsMap": {},
     "title": ""
    },
    "colab": {
     "base_uri": "https://localhost:8080/"
    },
    "id": "zrn9BWHBEMOv",
    "outputId": "6efd6ac1-4618-46fe-9471-1cb95c5bab9a"
   },
   "outputs": [],
   "source": [
    "c=\"Python\"\n",
    "print(c)\n",
    "print(type(c))"
   ]
  },
  {
   "cell_type": "code",
   "execution_count": 0,
   "metadata": {
    "application/vnd.databricks.v1+cell": {
     "cellMetadata": {},
     "inputWidgets": {},
     "nuid": "64f42964-9eae-4645-b28b-7e0dae4b76aa",
     "showTitle": false,
     "tableResultSettingsMap": {},
     "title": ""
    },
    "colab": {
     "base_uri": "https://localhost:8080/"
    },
    "id": "onsh9HOHEP44",
    "outputId": "5186d4c4-837c-412a-c444-600de3c807db"
   },
   "outputs": [],
   "source": [
    "c=\"\"\"Python\n",
    "is easy to learn\"\"\"\n",
    "print(c)\n",
    "print(type(c))"
   ]
  },
  {
   "cell_type": "code",
   "execution_count": 0,
   "metadata": {
    "application/vnd.databricks.v1+cell": {
     "cellMetadata": {},
     "inputWidgets": {},
     "nuid": "564fcc21-b57a-4850-adf5-71bfa545e67a",
     "showTitle": false,
     "tableResultSettingsMap": {},
     "title": ""
    },
    "colab": {
     "base_uri": "https://localhost:8080/"
    },
    "id": "8FTPFCP3EoG2",
    "outputId": "08c205ca-83f4-41aa-f9e2-a01b4d8b156b"
   },
   "outputs": [],
   "source": [
    "d=True\n",
    "print(type(d))"
   ]
  },
  {
   "cell_type": "code",
   "execution_count": 0,
   "metadata": {
    "application/vnd.databricks.v1+cell": {
     "cellMetadata": {},
     "inputWidgets": {},
     "nuid": "09646ad0-8cc4-4875-969c-779aabc7fc17",
     "showTitle": false,
     "tableResultSettingsMap": {},
     "title": ""
    },
    "colab": {
     "base_uri": "https://localhost:8080/"
    },
    "id": "TtI7kA1DEyha",
    "outputId": "b7e1aab1-805a-415f-e46b-acdca58029e0"
   },
   "outputs": [],
   "source": [
    "d=False\n",
    "print(type(d))"
   ]
  },
  {
   "cell_type": "code",
   "execution_count": 0,
   "metadata": {
    "application/vnd.databricks.v1+cell": {
     "cellMetadata": {},
     "inputWidgets": {},
     "nuid": "ec335e35-0a7a-412a-84f7-d08d31784f2c",
     "showTitle": false,
     "tableResultSettingsMap": {},
     "title": ""
    },
    "colab": {
     "base_uri": "https://localhost:8080/"
    },
    "id": "_AB7GAAHFIgq",
    "outputId": "58a909a4-dcb2-445e-ca23-1d0682c37a20"
   },
   "outputs": [],
   "source": [
    "a=10\n",
    "print(a)\n",
    "print(type(a))\n",
    "print(id(a))"
   ]
  },
  {
   "cell_type": "code",
   "execution_count": 0,
   "metadata": {
    "application/vnd.databricks.v1+cell": {
     "cellMetadata": {},
     "inputWidgets": {},
     "nuid": "172516e8-7a00-4403-aaa1-a2ba080d7b97",
     "showTitle": false,
     "tableResultSettingsMap": {},
     "title": ""
    },
    "colab": {
     "base_uri": "https://localhost:8080/"
    },
    "id": "tGtmPyEPGqG9",
    "outputId": "b0e88028-8b1b-400c-ff22-53065e6cf381"
   },
   "outputs": [],
   "source": [
    "a=\"Databricks\"\n",
    "print(a)\n",
    "print(type(a))\n",
    "print(id(a))"
   ]
  },
  {
   "cell_type": "code",
   "execution_count": 0,
   "metadata": {
    "application/vnd.databricks.v1+cell": {
     "cellMetadata": {},
     "inputWidgets": {},
     "nuid": "ee99b004-c975-4db1-a9b8-a8bb1ae760aa",
     "showTitle": false,
     "tableResultSettingsMap": {},
     "title": ""
    },
    "colab": {
     "base_uri": "https://localhost:8080/"
    },
    "id": "ukhtTkHGJyil",
    "outputId": "148dc4c7-d913-45ee-ba7d-142057d35e57"
   },
   "outputs": [],
   "source": [
    "print(a)"
   ]
  },
  {
   "cell_type": "code",
   "execution_count": 0,
   "metadata": {
    "application/vnd.databricks.v1+cell": {
     "cellMetadata": {},
     "inputWidgets": {},
     "nuid": "f2a8f080-29ff-4387-b0af-79bc0e3b0508",
     "showTitle": false,
     "tableResultSettingsMap": {},
     "title": ""
    },
    "colab": {
     "base_uri": "https://localhost:8080/"
    },
    "id": "ZNdAmjSLGxda",
    "outputId": "17340fd9-c605-4619-b267-05f39a742913"
   },
   "outputs": [],
   "source": [
    "b=20\n",
    "print(b)\n",
    "print(type(b))\n",
    "print(id(b))"
   ]
  },
  {
   "cell_type": "code",
   "execution_count": 0,
   "metadata": {
    "application/vnd.databricks.v1+cell": {
     "cellMetadata": {},
     "inputWidgets": {},
     "nuid": "2c9311b3-c7b8-432b-b103-583a2e599150",
     "showTitle": false,
     "tableResultSettingsMap": {},
     "title": ""
    },
    "id": "3wqA1e2VG31h"
   },
   "outputs": [],
   "source": [
    "a=10\n",
    "a=True\n",
    "print(type(a))"
   ]
  },
  {
   "cell_type": "code",
   "execution_count": 0,
   "metadata": {
    "application/vnd.databricks.v1+cell": {
     "cellMetadata": {},
     "inputWidgets": {},
     "nuid": "97f566cc-3bab-4a56-91ab-9c38d1ac161d",
     "showTitle": false,
     "tableResultSettingsMap": {},
     "title": ""
    },
    "id": "VRJj5KHeJ_H2"
   },
   "outputs": [],
   "source": [
    "s=\"Databricks is data and AI company\""
   ]
  },
  {
   "cell_type": "code",
   "execution_count": 0,
   "metadata": {
    "application/vnd.databricks.v1+cell": {
     "cellMetadata": {},
     "inputWidgets": {},
     "nuid": "a2a56d67-7e20-43b7-b1ed-a48f39b6eb9f",
     "showTitle": false,
     "tableResultSettingsMap": {},
     "title": ""
    },
    "colab": {
     "base_uri": "https://localhost:8080/"
    },
    "id": "cF8bXYr8KHp7",
    "outputId": "28c542ea-92f0-4457-82b4-71050e12cc15"
   },
   "outputs": [],
   "source": [
    "# indexing and slicing\n",
    "print(s[-1])\n",
    "print(s[1])\n",
    "print(s[5:10])\n",
    "print(s[11:])\n",
    "print(s[:10])"
   ]
  },
  {
   "cell_type": "code",
   "execution_count": 0,
   "metadata": {
    "application/vnd.databricks.v1+cell": {
     "cellMetadata": {},
     "inputWidgets": {},
     "nuid": "12b497ae-8d68-4c83-a257-4e5684816e6a",
     "showTitle": false,
     "tableResultSettingsMap": {},
     "title": ""
    },
    "colab": {
     "base_uri": "https://localhost:8080/",
     "height": 35
    },
    "id": "okmoGG0ZLCkM",
    "outputId": "27661ee0-edab-4445-a87d-8d187ad4beb7"
   },
   "outputs": [],
   "source": [
    "s[:10]"
   ]
  },
  {
   "cell_type": "code",
   "execution_count": 0,
   "metadata": {
    "application/vnd.databricks.v1+cell": {
     "cellMetadata": {},
     "inputWidgets": {},
     "nuid": "c1d45dd0-08bf-443c-a7bd-742d09f8ee57",
     "showTitle": false,
     "tableResultSettingsMap": {},
     "title": ""
    },
    "id": "iK6TIhnNME9z"
   },
   "outputs": [],
   "source": [
    "10+10\n",
    "10*3"
   ]
  },
  {
   "cell_type": "code",
   "execution_count": 0,
   "metadata": {
    "application/vnd.databricks.v1+cell": {
     "cellMetadata": {},
     "inputWidgets": {},
     "nuid": "22eb01c0-c25b-4baf-aebb-f7239df32760",
     "showTitle": false,
     "tableResultSettingsMap": {},
     "title": ""
    },
    "id": "JZRmL2OuLun9"
   },
   "outputs": [],
   "source": [
    "# opertors: +, *"
   ]
  },
  {
   "cell_type": "code",
   "execution_count": 0,
   "metadata": {
    "application/vnd.databricks.v1+cell": {
     "cellMetadata": {},
     "inputWidgets": {},
     "nuid": "b9ca52c5-dd71-40f5-8b49-cff7fb3f8080",
     "showTitle": false,
     "tableResultSettingsMap": {},
     "title": ""
    },
    "id": "Ehro3GVfMI5r"
   },
   "outputs": [],
   "source": [
    "s=\"AWS\" + \" \" + \"Databricks\""
   ]
  },
  {
   "cell_type": "code",
   "execution_count": 0,
   "metadata": {
    "application/vnd.databricks.v1+cell": {
     "cellMetadata": {},
     "inputWidgets": {},
     "nuid": "bd48a64a-32c2-4062-95b7-f063197312ab",
     "showTitle": false,
     "tableResultSettingsMap": {},
     "title": ""
    },
    "id": "Y3sxk_ElMZ6t"
   },
   "outputs": [],
   "source": [
    "s=\"AWS\" + \"Databricks\""
   ]
  },
  {
   "cell_type": "code",
   "execution_count": 0,
   "metadata": {
    "application/vnd.databricks.v1+cell": {
     "cellMetadata": {},
     "inputWidgets": {},
     "nuid": "cc6e9e3d-9caa-4148-9654-8a2247ca29bf",
     "showTitle": false,
     "tableResultSettingsMap": {},
     "title": ""
    },
    "colab": {
     "base_uri": "https://localhost:8080/"
    },
    "id": "0sdboMG4MIwS",
    "outputId": "edfd7c1c-a0ca-4248-8c4c-2148832d8662"
   },
   "outputs": [],
   "source": [
    "print(s)"
   ]
  },
  {
   "cell_type": "code",
   "execution_count": 0,
   "metadata": {
    "application/vnd.databricks.v1+cell": {
     "cellMetadata": {},
     "inputWidgets": {},
     "nuid": "e67080b4-e386-4b1e-8bb7-355b6152d4af",
     "showTitle": false,
     "tableResultSettingsMap": {},
     "title": ""
    },
    "colab": {
     "base_uri": "https://localhost:8080/",
     "height": 141
    },
    "id": "-IH4yIrcMWFX",
    "outputId": "687cb0d2-fe97-4db4-9edd-64f9034b097d"
   },
   "outputs": [],
   "source": [
    "s=\"AWS\" + 10"
   ]
  },
  {
   "cell_type": "code",
   "execution_count": 0,
   "metadata": {
    "application/vnd.databricks.v1+cell": {
     "cellMetadata": {},
     "inputWidgets": {},
     "nuid": "48c956f3-338c-4cbc-bed1-efe3fa9be9d4",
     "showTitle": false,
     "tableResultSettingsMap": {},
     "title": ""
    },
    "colab": {
     "base_uri": "https://localhost:8080/",
     "height": 141
    },
    "id": "RrAx6b5LMoN4",
    "outputId": "787564ca-0d34-47ce-c492-2e27f885fc9d"
   },
   "outputs": [],
   "source": [
    "s=\"AWS\" * \"Databricks\""
   ]
  },
  {
   "cell_type": "code",
   "execution_count": 0,
   "metadata": {
    "application/vnd.databricks.v1+cell": {
     "cellMetadata": {},
     "inputWidgets": {},
     "nuid": "b450db9b-cdb0-4fdb-8163-0b47756e2f0a",
     "showTitle": false,
     "tableResultSettingsMap": {},
     "title": ""
    },
    "colab": {
     "base_uri": "https://localhost:8080/"
    },
    "id": "_yOmy9FaM8qm",
    "outputId": "abebe2c3-02c5-41fe-f7b7-924e9bc30881"
   },
   "outputs": [],
   "source": [
    "s=\"AWS\" * 3\n",
    "print(s)"
   ]
  },
  {
   "cell_type": "code",
   "execution_count": 0,
   "metadata": {
    "application/vnd.databricks.v1+cell": {
     "cellMetadata": {},
     "inputWidgets": {},
     "nuid": "b8dd8966-1cdf-48bd-b9d1-e6429cb68cf9",
     "showTitle": false,
     "tableResultSettingsMap": {},
     "title": ""
    },
    "id": "xdLgRpMVNBHW"
   },
   "outputs": [],
   "source": [
    "# + both should str + str (str + str)\n",
    "# * one should str other should be int ( int * str)"
   ]
  },
  {
   "cell_type": "markdown",
   "metadata": {
    "application/vnd.databricks.v1+cell": {
     "cellMetadata": {},
     "inputWidgets": {},
     "nuid": "bce0c6a3-6f76-4cf7-80c8-74c01ceed02c",
     "showTitle": false,
     "tableResultSettingsMap": {},
     "title": ""
    },
    "id": "UDJu0dyNN1kp"
   },
   "source": [
    "### Type casting"
   ]
  },
  {
   "cell_type": "code",
   "execution_count": 0,
   "metadata": {
    "application/vnd.databricks.v1+cell": {
     "cellMetadata": {},
     "inputWidgets": {},
     "nuid": "f773901e-96e2-4a6f-905e-1a55626ea268",
     "showTitle": false,
     "tableResultSettingsMap": {},
     "title": ""
    },
    "colab": {
     "base_uri": "https://localhost:8080/"
    },
    "id": "xeb9b3hANSzJ",
    "outputId": "1c568663-11b4-4d70-dda6-c88eb0f03554"
   },
   "outputs": [],
   "source": [
    "print(float(10))\n",
    "print(str(10))\n",
    "print(bool(10))\n",
    "print(bool(0))"
   ]
  },
  {
   "cell_type": "code",
   "execution_count": 0,
   "metadata": {
    "application/vnd.databricks.v1+cell": {
     "cellMetadata": {},
     "inputWidgets": {},
     "nuid": "7cd00f65-ab17-45a4-ac4b-f110e19c81c8",
     "showTitle": false,
     "tableResultSettingsMap": {},
     "title": ""
    },
    "colab": {
     "base_uri": "https://localhost:8080/"
    },
    "id": "Z6Kbe9AFOrJa",
    "outputId": "a958f039-d57d-4fc0-cd6f-a3a5bcd54faf"
   },
   "outputs": [],
   "source": [
    "print(int(10.1))\n",
    "print(str(10.1))\n",
    "print(bool(10.1))\n",
    "print(bool(0.0))"
   ]
  },
  {
   "cell_type": "code",
   "execution_count": 0,
   "metadata": {
    "application/vnd.databricks.v1+cell": {
     "cellMetadata": {},
     "inputWidgets": {},
     "nuid": "0f6c9566-61ff-487a-8fd7-893730c98406",
     "showTitle": false,
     "tableResultSettingsMap": {},
     "title": ""
    },
    "colab": {
     "base_uri": "https://localhost:8080/"
    },
    "id": "uVQBNkKKO0G0",
    "outputId": "bc172d71-d221-4ca0-fac4-8cfa951a47e9"
   },
   "outputs": [],
   "source": [
    "print(int(\"10\"))\n",
    "#print(int(\"python\")) # Error\n",
    "#print(float(\"python\")) #Error\n",
    "print(bool(\"python\"))\n",
    "print(bool(\"\"))"
   ]
  },
  {
   "cell_type": "markdown",
   "metadata": {
    "application/vnd.databricks.v1+cell": {
     "cellMetadata": {},
     "inputWidgets": {},
     "nuid": "daf69aaf-5578-4ee5-890b-f617e8b87177",
     "showTitle": false,
     "tableResultSettingsMap": {},
     "title": ""
    },
    "id": "xfCyxFzFRRLK"
   },
   "source": [
    "# Data Type Advance\n",
    "\n",
    "1. List\n",
    "2. Tuple\n",
    "3. Set\n",
    "4. Dict\n",
    "5. Range\n",
    "\n"
   ]
  },
  {
   "cell_type": "markdown",
   "metadata": {
    "application/vnd.databricks.v1+cell": {
     "cellMetadata": {},
     "inputWidgets": {},
     "nuid": "63a8e300-a729-4542-912c-8e11f17789ff",
     "showTitle": false,
     "tableResultSettingsMap": {},
     "title": ""
    },
    "id": "e3ZNUdp8SZ_x"
   },
   "source": [
    "# List\n",
    "\n",
    "1. []\n",
    "2. Heterogenous object allowed\n",
    "3. Duplicates are allowed\n",
    "4. Order is presereved\n",
    "5. Indexing and slicing\n",
    "6. Mutable\n",
    "\n"
   ]
  },
  {
   "cell_type": "code",
   "execution_count": 0,
   "metadata": {
    "application/vnd.databricks.v1+cell": {
     "cellMetadata": {},
     "inputWidgets": {},
     "nuid": "36755d8e-a01b-4611-9c5b-2ee1b2fb5d41",
     "showTitle": false,
     "tableResultSettingsMap": {},
     "title": ""
    },
    "id": "JljMAtCJSZxX"
   },
   "outputs": [],
   "source": [
    "l=[10,20,'SQL','AWS','AWS',True, False,99.99,10]"
   ]
  },
  {
   "cell_type": "code",
   "execution_count": 0,
   "metadata": {
    "application/vnd.databricks.v1+cell": {
     "cellMetadata": {},
     "inputWidgets": {},
     "nuid": "daece812-e5a2-4e7b-91ea-d8373430b84a",
     "showTitle": false,
     "tableResultSettingsMap": {},
     "title": ""
    },
    "colab": {
     "base_uri": "https://localhost:8080/"
    },
    "id": "KRupcM0jTDp9",
    "outputId": "86522cc8-2285-4101-cc89-cf7be765e888"
   },
   "outputs": [],
   "source": [
    "print(l)\n",
    "print(id(l))\n",
    "print(type(l))\n",
    "l.append(55)\n",
    "print(l)\n",
    "print(id(l))"
   ]
  },
  {
   "cell_type": "code",
   "execution_count": 0,
   "metadata": {
    "application/vnd.databricks.v1+cell": {
     "cellMetadata": {},
     "inputWidgets": {},
     "nuid": "00daa009-8263-4581-818b-358f1de7546d",
     "showTitle": false,
     "tableResultSettingsMap": {},
     "title": ""
    },
    "colab": {
     "base_uri": "https://localhost:8080/"
    },
    "id": "zFf6F7S5Q0S0",
    "outputId": "b0ed82e9-9521-4650-b953-62db239eaa56"
   },
   "outputs": [],
   "source": [
    "l=[1,2,3,'a','b']\n",
    "print(l)\n",
    "print(id(l))"
   ]
  },
  {
   "cell_type": "code",
   "execution_count": 0,
   "metadata": {
    "application/vnd.databricks.v1+cell": {
     "cellMetadata": {},
     "inputWidgets": {},
     "nuid": "8719d5d3-0215-4eaf-b08c-9b11574b610d",
     "showTitle": false,
     "tableResultSettingsMap": {},
     "title": ""
    },
    "colab": {
     "base_uri": "https://localhost:8080/"
    },
    "id": "cOlWDhR_UA5v",
    "outputId": "03a91f03-16b3-47eb-8e56-2a36d8759008"
   },
   "outputs": [],
   "source": [
    "l[:100]"
   ]
  },
  {
   "cell_type": "code",
   "execution_count": 0,
   "metadata": {
    "application/vnd.databricks.v1+cell": {
     "cellMetadata": {},
     "inputWidgets": {},
     "nuid": "bf1ce2ba-9311-42ef-b4b3-d77a34ffc540",
     "showTitle": false,
     "tableResultSettingsMap": {},
     "title": ""
    },
    "id": "PZ7SYiZjUIMN"
   },
   "outputs": [],
   "source": []
  },
  {
   "cell_type": "markdown",
   "metadata": {
    "application/vnd.databricks.v1+cell": {
     "cellMetadata": {},
     "inputWidgets": {},
     "nuid": "f2cf1af1-4547-496c-90d5-5c5a5085484c",
     "showTitle": false,
     "tableResultSettingsMap": {},
     "title": ""
    },
    "id": "6-Hf3HaaVJzK"
   },
   "source": [
    "# Tuple\n",
    "\n",
    "1.   Excatly same as list except that it is immutable\n",
    "2.   Read only version of list is tuple\n",
    "3. ()\n",
    "\n"
   ]
  },
  {
   "cell_type": "code",
   "execution_count": 0,
   "metadata": {
    "application/vnd.databricks.v1+cell": {
     "cellMetadata": {},
     "inputWidgets": {},
     "nuid": "a611b229-472c-49c5-a0d9-90da5f42576b",
     "showTitle": false,
     "tableResultSettingsMap": {},
     "title": ""
    },
    "id": "0ooNlANAVYb6"
   },
   "outputs": [],
   "source": [
    "t=(10,10,'a',True,'Naval')"
   ]
  },
  {
   "cell_type": "code",
   "execution_count": 0,
   "metadata": {
    "application/vnd.databricks.v1+cell": {
     "cellMetadata": {},
     "inputWidgets": {},
     "nuid": "1a9a815c-e8be-469b-8dc0-7b15c72ca6f5",
     "showTitle": false,
     "tableResultSettingsMap": {},
     "title": ""
    },
    "colab": {
     "base_uri": "https://localhost:8080/",
     "height": 35
    },
    "id": "RXpuYp91Vg1l",
    "outputId": "46211f87-5add-40e8-bb75-c90a50c4f35b"
   },
   "outputs": [],
   "source": [
    "t[-1]"
   ]
  },
  {
   "cell_type": "code",
   "execution_count": 0,
   "metadata": {
    "application/vnd.databricks.v1+cell": {
     "cellMetadata": {},
     "inputWidgets": {},
     "nuid": "7710122f-27db-45bc-939c-983017f64514",
     "showTitle": false,
     "tableResultSettingsMap": {},
     "title": ""
    },
    "colab": {
     "base_uri": "https://localhost:8080/",
     "height": 141
    },
    "id": "9GBMsi5EVizZ",
    "outputId": "7460ab68-cd25-41e8-b38f-4833e6383f5a"
   },
   "outputs": [],
   "source": [
    "t.append(99)"
   ]
  },
  {
   "cell_type": "markdown",
   "metadata": {
    "application/vnd.databricks.v1+cell": {
     "cellMetadata": {},
     "inputWidgets": {},
     "nuid": "ddb64cba-1343-4b32-9f48-94fc403cdc1d",
     "showTitle": false,
     "tableResultSettingsMap": {},
     "title": ""
    },
    "id": "RtqdkmkkWDHY"
   },
   "source": [
    " #set\n",
    "\n",
    "\n",
    "\n",
    "1.   {}\n",
    "2.   Hetergenous objects are allowed\n",
    "3. Duplicates are not allowed\n",
    "4. Order is NOT preserved\n",
    "5. Indexing and slicing NOT support\n",
    "6. Mutable\n",
    "\n"
   ]
  },
  {
   "cell_type": "code",
   "execution_count": 0,
   "metadata": {
    "application/vnd.databricks.v1+cell": {
     "cellMetadata": {},
     "inputWidgets": {},
     "nuid": "7aa48c07-3b31-4ef6-acbb-5fc4d172963a",
     "showTitle": false,
     "tableResultSettingsMap": {},
     "title": ""
    },
    "colab": {
     "base_uri": "https://localhost:8080/"
    },
    "id": "kn3weyfMVm8N",
    "outputId": "b283e521-9dda-418a-e7e7-a15c1b5a2aaa"
   },
   "outputs": [],
   "source": [
    "s={10,10,20,30,30,'A',True,'A','Python',20}\n",
    "print(s)"
   ]
  },
  {
   "cell_type": "code",
   "execution_count": 0,
   "metadata": {
    "application/vnd.databricks.v1+cell": {
     "cellMetadata": {},
     "inputWidgets": {},
     "nuid": "48af3256-c07c-4b72-b908-15197c53d245",
     "showTitle": false,
     "tableResultSettingsMap": {},
     "title": ""
    },
    "colab": {
     "base_uri": "https://localhost:8080/",
     "height": 141
    },
    "id": "8AAc7UaVXm54",
    "outputId": "29c7424e-34c5-43af-b341-87853197d251"
   },
   "outputs": [],
   "source": [
    "s[1]"
   ]
  },
  {
   "cell_type": "code",
   "execution_count": 0,
   "metadata": {
    "application/vnd.databricks.v1+cell": {
     "cellMetadata": {},
     "inputWidgets": {},
     "nuid": "82dba791-05ca-4ffc-9373-2e6592d13185",
     "showTitle": false,
     "tableResultSettingsMap": {},
     "title": ""
    },
    "id": "HuaG8H5wX0lz"
   },
   "outputs": [],
   "source": [
    "s.add(99)"
   ]
  },
  {
   "cell_type": "code",
   "execution_count": 0,
   "metadata": {
    "application/vnd.databricks.v1+cell": {
     "cellMetadata": {},
     "inputWidgets": {},
     "nuid": "4963aa84-0ef5-446d-a0c1-d664c3bd7239",
     "showTitle": false,
     "tableResultSettingsMap": {},
     "title": ""
    },
    "colab": {
     "base_uri": "https://localhost:8080/"
    },
    "id": "cw1BUFJ3X7Mn",
    "outputId": "315dbe51-f71e-4bc0-a670-6edbeb1f02a0"
   },
   "outputs": [],
   "source": [
    "print(s)"
   ]
  },
  {
   "cell_type": "markdown",
   "metadata": {
    "application/vnd.databricks.v1+cell": {
     "cellMetadata": {},
     "inputWidgets": {},
     "nuid": "20f1e9bf-8f18-415e-8165-7d00229794f9",
     "showTitle": false,
     "tableResultSettingsMap": {},
     "title": ""
    },
    "id": "YYDkCYNZYw0o"
   },
   "source": [
    "# Dict\n",
    "\n",
    "\n",
    "1.   {k:v}\n",
    "2.   Duplicate keys are NOT allowed\n",
    "3. Duplicate values are allowed\n",
    "4. Heterogenous are allowed\n",
    "5. Mutable\n",
    "\n",
    "\n"
   ]
  },
  {
   "cell_type": "code",
   "execution_count": 0,
   "metadata": {
    "application/vnd.databricks.v1+cell": {
     "cellMetadata": {},
     "inputWidgets": {},
     "nuid": "7ad85a50-1c65-47d5-8f09-8befb08c6d7a",
     "showTitle": false,
     "tableResultSettingsMap": {},
     "title": ""
    },
    "id": "_fHAdVtdX85Q"
   },
   "outputs": [],
   "source": [
    "d={1:'Naval',2:\"Ramakrishna\",3:\"Jaya\",4:\"Praveen\",5:\"Praveen\",6:True,7:100.0,\"a\":\"b\",\"c\":[10,20]}"
   ]
  },
  {
   "cell_type": "code",
   "execution_count": 0,
   "metadata": {
    "application/vnd.databricks.v1+cell": {
     "cellMetadata": {},
     "inputWidgets": {},
     "nuid": "26b3cbf7-92b9-4741-aee0-7908441865b1",
     "showTitle": false,
     "tableResultSettingsMap": {},
     "title": ""
    },
    "colab": {
     "base_uri": "https://localhost:8080/"
    },
    "id": "rpDRjy87ZUtY",
    "outputId": "061dd06e-3f53-447d-d8bc-93d18ea75a20"
   },
   "outputs": [],
   "source": [
    "print(d)"
   ]
  },
  {
   "cell_type": "code",
   "execution_count": 0,
   "metadata": {
    "application/vnd.databricks.v1+cell": {
     "cellMetadata": {},
     "inputWidgets": {},
     "nuid": "39fa5280-23ec-4509-8bd9-89814ce59812",
     "showTitle": false,
     "tableResultSettingsMap": {},
     "title": ""
    },
    "id": "ZMKE0Z3UZVSM"
   },
   "outputs": [],
   "source": [
    "d[5]='Mohan'"
   ]
  },
  {
   "cell_type": "code",
   "execution_count": 0,
   "metadata": {
    "application/vnd.databricks.v1+cell": {
     "cellMetadata": {},
     "inputWidgets": {},
     "nuid": "596832a2-0255-44cb-98be-c2f62ad40daa",
     "showTitle": false,
     "tableResultSettingsMap": {},
     "title": ""
    },
    "colab": {
     "base_uri": "https://localhost:8080/"
    },
    "id": "K5PtA51zZgOC",
    "outputId": "4fbabaac-32a6-490a-d555-2fe8f204a30f"
   },
   "outputs": [],
   "source": [
    "print(d)"
   ]
  },
  {
   "cell_type": "code",
   "execution_count": 0,
   "metadata": {
    "application/vnd.databricks.v1+cell": {
     "cellMetadata": {},
     "inputWidgets": {},
     "nuid": "87f842b6-422d-472b-a910-c39fe2b2bba1",
     "showTitle": false,
     "tableResultSettingsMap": {},
     "title": ""
    },
    "colab": {
     "base_uri": "https://localhost:8080/"
    },
    "id": "g5kjo0k5ZiFN",
    "outputId": "943c04df-710e-4dd8-f9d2-b42dc1eaa411"
   },
   "outputs": [],
   "source": [
    "print(d[\"c\"][1])"
   ]
  },
  {
   "cell_type": "code",
   "execution_count": 0,
   "metadata": {
    "application/vnd.databricks.v1+cell": {
     "cellMetadata": {},
     "inputWidgets": {},
     "nuid": "cb1b76b9-e75a-47bf-bc50-67dee86697b7",
     "showTitle": false,
     "tableResultSettingsMap": {},
     "title": ""
    },
    "id": "8U2bDN-eaq1-"
   },
   "outputs": [],
   "source": [
    "Range: sequence of Number"
   ]
  },
  {
   "cell_type": "code",
   "execution_count": 0,
   "metadata": {
    "application/vnd.databricks.v1+cell": {
     "cellMetadata": {},
     "inputWidgets": {},
     "nuid": "3ce1f4bf-a215-4314-a7ec-02037cb21130",
     "showTitle": false,
     "tableResultSettingsMap": {},
     "title": ""
    },
    "colab": {
     "base_uri": "https://localhost:8080/"
    },
    "id": "meg-sjx8emR1",
    "outputId": "f3faa148-5cf2-4425-8385-1f73ff09d8d7"
   },
   "outputs": [],
   "source": [
    "range(10)"
   ]
  },
  {
   "cell_type": "code",
   "execution_count": 0,
   "metadata": {
    "application/vnd.databricks.v1+cell": {
     "cellMetadata": {},
     "inputWidgets": {},
     "nuid": "65beeba6-9e83-4684-a667-08d088e009fd",
     "showTitle": false,
     "tableResultSettingsMap": {},
     "title": ""
    },
    "colab": {
     "base_uri": "https://localhost:8080/"
    },
    "id": "MpPzd_xOepzQ",
    "outputId": "9e59d26f-3106-45b6-c92f-7042a862df14"
   },
   "outputs": [],
   "source": [
    "for i in range(10):\n",
    "  print(i)"
   ]
  },
  {
   "cell_type": "code",
   "execution_count": 0,
   "metadata": {
    "application/vnd.databricks.v1+cell": {
     "cellMetadata": {},
     "inputWidgets": {},
     "nuid": "29f42904-0a74-4073-a822-00a8b4e474f7",
     "showTitle": false,
     "tableResultSettingsMap": {},
     "title": ""
    },
    "colab": {
     "base_uri": "https://localhost:8080/"
    },
    "id": "Sm-A5wAPfRCW",
    "outputId": "74104dc9-c567-46ea-d9f3-1f3c961859da"
   },
   "outputs": [],
   "source": [
    "for i in range(5,10):\n",
    "  print(i)"
   ]
  },
  {
   "cell_type": "code",
   "execution_count": 0,
   "metadata": {
    "application/vnd.databricks.v1+cell": {
     "cellMetadata": {},
     "inputWidgets": {},
     "nuid": "7a9d9918-2c77-4856-aca3-19ffdd59a991",
     "showTitle": false,
     "tableResultSettingsMap": {},
     "title": ""
    },
    "colab": {
     "base_uri": "https://localhost:8080/"
    },
    "id": "7h1S9f1NffuG",
    "outputId": "d4af08cf-8da6-4dff-cb52-d366afa7dca7"
   },
   "outputs": [],
   "source": [
    "for i in range(3,30,3):\n",
    "  print(i)"
   ]
  },
  {
   "cell_type": "code",
   "execution_count": 0,
   "metadata": {
    "application/vnd.databricks.v1+cell": {
     "cellMetadata": {},
     "inputWidgets": {},
     "nuid": "6a45c477-bfc5-4ce4-ae57-5f4d04221460",
     "showTitle": false,
     "tableResultSettingsMap": {},
     "title": ""
    },
    "colab": {
     "base_uri": "https://localhost:8080/"
    },
    "id": "kWrLMli6fvb4",
    "outputId": "27dfd6a4-b1e4-4a87-ca30-dcdd457a9d3a"
   },
   "outputs": [],
   "source": [
    "for i in range(50,1,-5):\n",
    "  print(i)"
   ]
  },
  {
   "cell_type": "code",
   "execution_count": 0,
   "metadata": {
    "application/vnd.databricks.v1+cell": {
     "cellMetadata": {},
     "inputWidgets": {},
     "nuid": "f2704377-add9-499f-b82c-358a27de6deb",
     "showTitle": false,
     "tableResultSettingsMap": {},
     "title": ""
    },
    "colab": {
     "base_uri": "https://localhost:8080/",
     "height": 158
    },
    "id": "RAxAn_e2gPDb",
    "outputId": "f58e1089-16fb-47fc-8998-165f12e757c5"
   },
   "outputs": [],
   "source": [
    "for i in range(0.3,1.5,0.3):\n",
    "  print(i)"
   ]
  },
  {
   "cell_type": "code",
   "execution_count": null,
   "metadata": {},
   "outputs": [],
   "source": [
    "print(\"new data for PR\")"
   ]
  }
 ],
 "metadata": {
  "application/vnd.databricks.v1+notebook": {
   "computePreferences": null,
   "dashboards": [],
   "environmentMetadata": null,
   "inputWidgetPreferences": null,
   "language": "python",
   "notebookMetadata": {
    "pythonIndentUnit": 4
   },
   "notebookName": "Python_Basic_NY",
   "widgets": {}
  },
  "colab": {
   "provenance": []
  },
  "kernelspec": {
   "display_name": "Python 3",
   "name": "python3"
  },
  "language_info": {
   "name": "python"
  }
 },
 "nbformat": 4,
 "nbformat_minor": 0
}
