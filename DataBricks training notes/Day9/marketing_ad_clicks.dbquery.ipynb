{
 "cells": [
  {
   "cell_type": "code",
   "execution_count": 0,
   "metadata": {
    "application/vnd.databricks.v1+cell": {
     "cellMetadata": {
      "byteLimit": 10485760,
      "rowLimit": 1000
     },
     "inputWidgets": {},
     "nuid": "a6d334b3-9a14-435a-bd9c-6056d7447d76",
     "showTitle": false,
     "tableResultSettingsMap": {},
     "title": ""
    }
   },
   "outputs": [],
   "source": [
    "use catalog auto;\n",
    "use zoohaib;\n",
    "create table if not exists auto_marketing_ad_clicks as\n",
    "select * from read_files('s3://jpmctraining/input/auto_marketing_ad_clicks.csv', format=>\"csv\");\n",
    "\n",
    "describe extended auto_marketing_ad_clicks;\n",
    "describe history auto_marketing_ad_clicks;\n",
    "\n",
    "\n",
    "select * from auto_marketing_ad_clicks limit 2;"
   ]
  }
 ],
 "metadata": {
  "application/vnd.databricks.v1+notebook": {
   "computePreferences": null,
   "dashboards": [],
   "environmentMetadata": null,
   "inputWidgetPreferences": null,
   "language": "sql",
   "notebookMetadata": {
    "pythonIndentUnit": 4,
    "sqlQueryOptions": {
     "applyAutoLimit": true,
     "catalog": "auto",
     "schema": "naval"
    }
   },
   "notebookName": "marketing_ad_clicks.dbquery.ipynb",
   "widgets": {}
  },
  "language_info": {
   "name": "sql"
  }
 },
 "nbformat": 4,
 "nbformat_minor": 0
}
